{
 "cells": [
  {
   "cell_type": "markdown",
   "metadata": {},
   "source": [
    "# Budget Analysis\n",
    "\n",
    "---\n",
    "\n",
    "## Environment Setup"
   ]
  },
  {
   "cell_type": "code",
   "execution_count": 5,
   "metadata": {},
   "outputs": [],
   "source": [
    "# Initial Imports\n",
    "import os\n",
    "import plaid\n",
    "import requests\n",
    "import datetime\n",
    "import json\n",
    "import pandas as pd\n",
    "from dotenv import load_dotenv\n",
    "\n",
    "%matplotlib inline"
   ]
  },
  {
   "cell_type": "code",
   "execution_count": 6,
   "metadata": {},
   "outputs": [],
   "source": [
    "# Helper functions\n",
    "\n",
    "def pretty_print_response(response):\n",
    "    \"\"\"\n",
    "    This function formats a JSON file to pretty printing it in the screen.\n",
    "    \"\"\"\n",
    "    print(json.dumps(response, indent=4, sort_keys=True))"
   ]
  },
  {
   "cell_type": "code",
   "execution_count": 7,
   "metadata": {},
   "outputs": [
    {
     "data": {
      "text/plain": [
       "True"
      ]
     },
     "execution_count": 7,
     "metadata": {},
     "output_type": "execute_result"
    }
   ],
   "source": [
    "# Set environment variables from the .env file\n",
    "load_dotenv()"
   ]
  },
  {
   "cell_type": "code",
   "execution_count": 10,
   "metadata": {},
   "outputs": [],
   "source": [
    "# Extract API keys from environment variables\n",
    "PLAID_CLIENT_ID = os.getenv(\"PLAID_CLIENT_ID\")\n",
    "PLAID_SECRET_KEY = os.getenv(\"PLAID_SECRET\")\n",
    "PLAID_PUBLIC_KEY = os.getenv(\"PLAID_PUBLIC_KEY\")"
   ]
  },
  {
   "cell_type": "markdown",
   "metadata": {},
   "source": [
    "---\n",
    "\n",
    "## Plaid Access Token\n",
    "\n",
    "In this section, you will use the `plaid-python` API to generate the correct authentication tokens to access data in the free developer Sandbox. This mimics how you might connect to your own account or a customer account, but due to privacy issues, this homework will only require connecting to and analyzing the fake data from the developer sandbox that Plaid provides. \n",
    "\n",
    "Complete the following steps to generate an access token:\n",
    "\n",
    "1. Create a client to connect to plaid\n",
    "\n",
    "2. Use the client to generate a public token and request the following items: ['transactions', 'income', 'assets']\n",
    "\n",
    "3. Exchange the public token for an access token\n",
    "\n",
    "4. Test the access token by requesting and printing the available test accounts"
   ]
  },
  {
   "cell_type": "markdown",
   "metadata": {},
   "source": [
    "### 1. Create a client to connect to plaid"
   ]
  },
  {
   "cell_type": "code",
   "execution_count": 11,
   "metadata": {},
   "outputs": [],
   "source": [
    "# Create the client object\n",
    "client = plaid.Client(\n",
    "    client_id=PLAID_CLIENT_ID,\n",
    "    secret=PLAID_SECRET_KEY,\n",
    "    public_key=PLAID_PUBLIC_KEY,\n",
    "    environment=\"sandbox\"\n",
    ")"
   ]
  },
  {
   "cell_type": "code",
   "execution_count": 17,
   "metadata": {},
   "outputs": [],
   "source": [
    "# Set the institution id\n",
    "INSTITUTION_ID = \"ins_109508\""
   ]
  },
  {
   "cell_type": "code",
   "execution_count": 18,
   "metadata": {},
   "outputs": [
    {
     "name": "stdout",
     "output_type": "stream",
     "text": [
      "{'public_token': 'public-sandbox-b80a9229-5e37-4ba6-8472-c32550eee222', 'request_id': 'Lc5cOWuBLywQ52E'}\n"
     ]
    }
   ],
   "source": [
    "# Create the public token\n",
    "\n",
    "create_tkn_response = client.Sandbox.public_token.create(INSTITUTION_ID, [\"transactions\",\"income\",\"assets\"])\n",
    "# Print the public token\n",
    "print(create_tkn_response)"
   ]
  },
  {
   "cell_type": "markdown",
   "metadata": {},
   "source": [
    "### 3. Exchange the public token for an access token"
   ]
  },
  {
   "cell_type": "code",
   "execution_count": 19,
   "metadata": {},
   "outputs": [
    {
     "name": "stdout",
     "output_type": "stream",
     "text": [
      "{'access_token': 'access-sandbox-d49539b2-085e-4c05-bbd0-436acf39fcf8', 'item_id': 'GJkP6q5XXoHr7kk9gKdMtr49WnkBWxC133rQQ', 'request_id': 'JvnAPYVlXVO3XrF'}\n"
     ]
    }
   ],
   "source": [
    "# Retrieve the access token\n",
    "exchange_response = client.Item.public_token.exchange(create_tkn_response[\"public_token\"])\n",
    "# Print the access toke\n",
    "print(exchange_response)"
   ]
  },
  {
   "cell_type": "code",
   "execution_count": 27,
   "metadata": {},
   "outputs": [],
   "source": [
    "# Store the access token in a Python variable\n",
    "access_token = exchange_response[\"access_token\"]"
   ]
  },
  {
   "cell_type": "markdown",
   "metadata": {},
   "source": [
    "### 4. Fetch Accounts"
   ]
  },
  {
   "cell_type": "code",
   "execution_count": 31,
   "metadata": {},
   "outputs": [
    {
     "data": {
      "text/plain": [
       "{'accounts': [{'account_id': '1QwpBx188mhaDPPe17zoHrVpzojj3at5eAj3D',\n",
       "   'balances': {'available': 100,\n",
       "    'current': 110,\n",
       "    'iso_currency_code': 'USD',\n",
       "    'limit': None,\n",
       "    'unofficial_currency_code': None},\n",
       "   'mask': '0000',\n",
       "   'name': 'Plaid Checking',\n",
       "   'official_name': 'Plaid Gold Standard 0% Interest Checking',\n",
       "   'subtype': 'checking',\n",
       "   'type': 'depository'},\n",
       "  {'account_id': 'LJbZw35XXoHd1RRnVbGKId6Nqo88rEcPpVjoB',\n",
       "   'balances': {'available': 200,\n",
       "    'current': 210,\n",
       "    'iso_currency_code': 'USD',\n",
       "    'limit': None,\n",
       "    'unofficial_currency_code': None},\n",
       "   'mask': '1111',\n",
       "   'name': 'Plaid Saving',\n",
       "   'official_name': 'Plaid Silver Standard 0.1% Interest Saving',\n",
       "   'subtype': 'savings',\n",
       "   'type': 'depository'},\n",
       "  {'account_id': 'pvXVm73449hPx99VlE8ks5JKDwZZpXhLVAok8',\n",
       "   'balances': {'available': None,\n",
       "    'current': 1000,\n",
       "    'iso_currency_code': 'USD',\n",
       "    'limit': None,\n",
       "    'unofficial_currency_code': None},\n",
       "   'mask': '2222',\n",
       "   'name': 'Plaid CD',\n",
       "   'official_name': 'Plaid Bronze Standard 0.2% Interest CD',\n",
       "   'subtype': 'cd',\n",
       "   'type': 'depository'},\n",
       "  {'account_id': 'ovLVojBaa9hR3JJExG8ktNzBwQddX9iR7Wqrw',\n",
       "   'balances': {'available': None,\n",
       "    'current': 410,\n",
       "    'iso_currency_code': 'USD',\n",
       "    'limit': 2000,\n",
       "    'unofficial_currency_code': None},\n",
       "   'mask': '3333',\n",
       "   'name': 'Plaid Credit Card',\n",
       "   'official_name': 'Plaid Diamond 12.5% APR Interest Credit Card',\n",
       "   'subtype': 'credit card',\n",
       "   'type': 'credit'},\n",
       "  {'account_id': 'goJV6B5qqkhR911nWEVNtm5ZgXooAehgnv8ra',\n",
       "   'balances': {'available': 43200,\n",
       "    'current': 43200,\n",
       "    'iso_currency_code': 'USD',\n",
       "    'limit': None,\n",
       "    'unofficial_currency_code': None},\n",
       "   'mask': '4444',\n",
       "   'name': 'Plaid Money Market',\n",
       "   'official_name': 'Plaid Platinum Standard 1.85% Interest Money Market',\n",
       "   'subtype': 'money market',\n",
       "   'type': 'depository'},\n",
       "  {'account_id': '8gRGP7kXXqCWXQQJgwNrSvzK4oJJrXiwLk3zP',\n",
       "   'balances': {'available': None,\n",
       "    'current': 320.76,\n",
       "    'iso_currency_code': 'USD',\n",
       "    'limit': None,\n",
       "    'unofficial_currency_code': None},\n",
       "   'mask': '5555',\n",
       "   'name': 'Plaid IRA',\n",
       "   'official_name': None,\n",
       "   'subtype': 'ira',\n",
       "   'type': 'investment'},\n",
       "  {'account_id': 'EJr4WA5XXvHqPZZxXkaGSqog8zBBJjiXkpxVp',\n",
       "   'balances': {'available': None,\n",
       "    'current': 23631.9805,\n",
       "    'iso_currency_code': 'USD',\n",
       "    'limit': None,\n",
       "    'unofficial_currency_code': None},\n",
       "   'mask': '6666',\n",
       "   'name': 'Plaid 401k',\n",
       "   'official_name': None,\n",
       "   'subtype': '401k',\n",
       "   'type': 'investment'},\n",
       "  {'account_id': 'W34GAZ5nnzs1LeexPkX6S18wkqAAEXIl1JZve',\n",
       "   'balances': {'available': None,\n",
       "    'current': 65262,\n",
       "    'iso_currency_code': 'USD',\n",
       "    'limit': None,\n",
       "    'unofficial_currency_code': None},\n",
       "   'mask': '7777',\n",
       "   'name': 'Plaid Student Loan',\n",
       "   'official_name': None,\n",
       "   'subtype': 'student',\n",
       "   'type': 'loan'},\n",
       "  {'account_id': 'AJ93WgRXXpHzdggrGKlAHyDavpwwBgS1AnryG',\n",
       "   'balances': {'available': None,\n",
       "    'current': 56302.06,\n",
       "    'iso_currency_code': 'USD',\n",
       "    'limit': None,\n",
       "    'unofficial_currency_code': None},\n",
       "   'mask': '8888',\n",
       "   'name': 'Plaid Mortgage',\n",
       "   'official_name': None,\n",
       "   'subtype': 'mortgage',\n",
       "   'type': 'loan'}],\n",
       " 'item': {'available_products': ['auth',\n",
       "   'balance',\n",
       "   'credit_details',\n",
       "   'identity',\n",
       "   'investments',\n",
       "   'liabilities'],\n",
       "  'billed_products': ['assets', 'income', 'transactions'],\n",
       "  'consent_expiration_time': None,\n",
       "  'error': None,\n",
       "  'institution_id': 'ins_109508',\n",
       "  'item_id': 'GJkP6q5XXoHr7kk9gKdMtr49WnkBWxC133rQQ',\n",
       "  'webhook': ''},\n",
       " 'request_id': 'D0jFXtLZOJA9diU'}"
      ]
     },
     "execution_count": 31,
     "metadata": {},
     "output_type": "execute_result"
    }
   ],
   "source": [
    "# Retrieve accounts\n",
    "client.Accounts.get(access_token)\n",
    "# Print accounts\n"
   ]
  },
  {
   "cell_type": "markdown",
   "metadata": {},
   "source": [
    "---\n",
    "\n",
    "# Account Transactions with Plaid\n",
    "\n",
    "In this section, you will use the Plaid Python SDK to connect to the Developer Sandbox account and grab a list of transactions. You will need to complete the following steps:\n",
    "\n",
    "\n",
    "1. Use the access token to fetch the transactions for the last 90 days\n",
    "\n",
    "2. Print the categories for each transaction type\n",
    "\n",
    "3. Create a new DataFrame using the following fields from the JSON transaction data: `date, name, amount, category`. (For categories with more than one label, just use the first category label in the list)\n",
    "\n",
    "4. Convert the data types to the appropriate types (i.e. datetimeindex for the date and float for the amount)"
   ]
  },
  {
   "cell_type": "markdown",
   "metadata": {},
   "source": [
    "### 1. Fetch the Transactions for the last 90 days"
   ]
  },
  {
   "cell_type": "code",
   "execution_count": 34,
   "metadata": {},
   "outputs": [
    {
     "name": "stdout",
     "output_type": "stream",
     "text": [
      "[\n",
      "    {\n",
      "        \"account_id\": \"1QwpBx188mhaDPPe17zoHrVpzojj3at5eAj3D\",\n",
      "        \"account_owner\": null,\n",
      "        \"amount\": 89.4,\n",
      "        \"authorized_date\": null,\n",
      "        \"category\": [\n",
      "            \"Food and Drink\",\n",
      "            \"Restaurants\"\n",
      "        ],\n",
      "        \"category_id\": \"13005000\",\n",
      "        \"date\": \"2020-07-10\",\n",
      "        \"iso_currency_code\": \"USD\",\n",
      "        \"location\": {\n",
      "            \"address\": null,\n",
      "            \"city\": null,\n",
      "            \"country\": null,\n",
      "            \"lat\": null,\n",
      "            \"lon\": null,\n",
      "            \"postal_code\": null,\n",
      "            \"region\": null,\n",
      "            \"store_number\": null\n",
      "        },\n",
      "        \"merchant_name\": \"Sparkfun\",\n",
      "        \"name\": \"SparkFun\",\n",
      "        \"payment_channel\": \"in store\",\n",
      "        \"payment_meta\": {\n",
      "            \"by_order_of\": null,\n",
      "            \"payee\": null,\n",
      "            \"payer\": null,\n",
      "            \"payment_method\": null,\n",
      "            \"payment_processor\": null,\n",
      "            \"ppd_id\": null,\n",
      "            \"reason\": null,\n",
      "            \"reference_number\": null\n",
      "        },\n",
      "        \"pending\": false,\n",
      "        \"pending_transaction_id\": null,\n",
      "        \"transaction_code\": null,\n",
      "        \"transaction_id\": \"AJ93WgRXXpHzdggrGKlAHyDapZ7dzyU1Anraj\",\n",
      "        \"transaction_type\": \"place\",\n",
      "        \"unofficial_currency_code\": null\n",
      "    },\n",
      "    {\n",
      "        \"account_id\": \"LJbZw35XXoHd1RRnVbGKId6Nqo88rEcPpVjoB\",\n",
      "        \"account_owner\": null,\n",
      "        \"amount\": -4.22,\n",
      "        \"authorized_date\": null,\n",
      "        \"category\": [\n",
      "            \"Transfer\",\n",
      "            \"Credit\"\n",
      "        ],\n",
      "        \"category_id\": \"21005000\",\n",
      "        \"date\": \"2020-07-09\",\n",
      "        \"iso_currency_code\": \"USD\",\n",
      "        \"location\": {\n",
      "            \"address\": null,\n",
      "            \"city\": null,\n",
      "            \"country\": null,\n",
      "            \"lat\": null,\n",
      "            \"lon\": null,\n",
      "            \"postal_code\": null,\n",
      "            \"region\": null,\n",
      "            \"store_number\": null\n",
      "        },\n",
      "        \"merchant_name\": null,\n",
      "        \"name\": \"INTRST PYMNT\",\n",
      "        \"payment_channel\": \"other\",\n",
      "        \"payment_meta\": {\n",
      "            \"by_order_of\": null,\n",
      "            \"payee\": null,\n",
      "            \"payer\": null,\n",
      "            \"payment_method\": null,\n",
      "            \"payment_processor\": null,\n",
      "            \"ppd_id\": null,\n",
      "            \"reason\": null,\n",
      "            \"reference_number\": null\n",
      "        },\n",
      "        \"pending\": false,\n",
      "        \"pending_transaction_id\": null,\n",
      "        \"transaction_code\": null,\n",
      "        \"transaction_id\": \"9JwnjeAXXKHzlEE7XNPAHkZPKmLXgkIRQXxkz\",\n",
      "        \"transaction_type\": \"special\",\n",
      "        \"unofficial_currency_code\": null\n",
      "    }\n",
      "]\n"
     ]
    }
   ],
   "source": [
    "# Set the start and end date 90 days from today\n",
    "start_date = \"{:%Y-%m-%d}\".format(datetime.datetime.now() + datetime.timedelta(-90))\n",
    "end_date = \"{:%Y-%m-%d}\".format(datetime.datetime.now()) \n",
    "\n",
    "# Retrieve the transactions for the last 90 days\n",
    "transactions_response = client.Transactions.get(access_token, start_date, end_date)\n",
    "# Print the transactions\n",
    "print(json.dumps(transactions_response[\"transactions\"][:2],indent=4, sort_keys=True))"
   ]
  },
  {
   "cell_type": "markdown",
   "metadata": {},
   "source": [
    "### 2. Print the categories for each transaction"
   ]
  },
  {
   "cell_type": "code",
   "execution_count": 37,
   "metadata": {},
   "outputs": [
    {
     "name": "stdout",
     "output_type": "stream",
     "text": [
      "Food and Drink\n",
      "Transfer\n",
      "Travel\n",
      "Travel\n",
      "Food and Drink\n",
      "Payment\n",
      "Food and Drink\n",
      "Shops\n",
      "Payment\n",
      "Travel\n",
      "Transfer\n",
      "Transfer\n",
      "Recreation\n",
      "Travel\n",
      "Food and Drink\n",
      "Food and Drink\n",
      "Food and Drink\n",
      "Transfer\n",
      "Travel\n",
      "Travel\n",
      "Food and Drink\n",
      "Payment\n",
      "Food and Drink\n",
      "Shops\n",
      "Payment\n",
      "Travel\n",
      "Transfer\n",
      "Transfer\n",
      "Recreation\n",
      "Travel\n",
      "Food and Drink\n",
      "Food and Drink\n",
      "Food and Drink\n",
      "Transfer\n",
      "Travel\n",
      "Travel\n",
      "Food and Drink\n",
      "Payment\n",
      "Food and Drink\n",
      "Shops\n",
      "Payment\n",
      "Travel\n",
      "Transfer\n",
      "Transfer\n",
      "Recreation\n",
      "Travel\n",
      "Food and Drink\n",
      "Food and Drink\n",
      "Food and Drink\n"
     ]
    }
   ],
   "source": [
    "# Create a for-loop to print the categories for each transaction\n",
    "transactions = transactions_response['transactions']\n",
    "total_categories = []\n",
    "for tran in transactions:\n",
    "    category = tran['category'][0]\n",
    "    total_categories.append(category)\n",
    "    print(category)"
   ]
  },
  {
   "cell_type": "markdown",
   "metadata": {},
   "source": [
    "### 3. Create a new DataFrame using the following fields from the JSON transaction data: `date`, `name`, `amount`, `category`. \n",
    "\n",
    "(For categories with more than one label, just use the first category label in the list)"
   ]
  },
  {
   "cell_type": "code",
   "execution_count": 52,
   "metadata": {},
   "outputs": [
    {
     "name": "stdout",
     "output_type": "stream",
     "text": [
      "2020-07-10 SparkFun $89.4 Category: Food and Drink\n",
      "2020-07-09 INTRST PYMNT $-4.22 Category: Transfer\n",
      "2020-06-29 United Airlines $500 Category: Travel\n",
      "2020-06-27 Uber 072515 SF**POOL** $6.33 Category: Travel\n",
      "2020-06-24 Tectra Inc $500 Category: Food and Drink\n",
      "2020-06-23 AUTOMATIC PAYMENT - THANK $2078.5 Category: Payment\n",
      "2020-06-23 KFC $500 Category: Food and Drink\n",
      "2020-06-23 Madison Bicycle Shop $500 Category: Shops\n",
      "2020-06-14 CREDIT CARD 3333 PAYMENT *// $25 Category: Payment\n",
      "2020-06-14 Uber 063015 SF**POOL** $5.4 Category: Travel\n",
      "2020-06-13 ACH Electronic CreditGUSTO PAY 123456 $5850 Category: Transfer\n",
      "2020-06-13 CD DEPOSIT .INITIAL. $1000 Category: Transfer\n",
      "2020-06-12 Touchstone Climbing $78.5 Category: Recreation\n",
      "2020-06-12 United Airlines $-500 Category: Travel\n",
      "2020-06-11 McDonald's $12 Category: Food and Drink\n",
      "2020-06-11 Starbucks $4.33 Category: Food and Drink\n",
      "2020-06-10 SparkFun $89.4 Category: Food and Drink\n",
      "2020-06-09 INTRST PYMNT $-4.22 Category: Transfer\n",
      "2020-05-30 United Airlines $500 Category: Travel\n",
      "2020-05-28 Uber 072515 SF**POOL** $6.33 Category: Travel\n",
      "2020-05-25 Tectra Inc $500 Category: Food and Drink\n",
      "2020-05-24 AUTOMATIC PAYMENT - THANK $2078.5 Category: Payment\n",
      "2020-05-24 KFC $500 Category: Food and Drink\n",
      "2020-05-24 Madison Bicycle Shop $500 Category: Shops\n",
      "2020-05-15 CREDIT CARD 3333 PAYMENT *// $25 Category: Payment\n",
      "2020-05-15 Uber 063015 SF**POOL** $5.4 Category: Travel\n",
      "2020-05-14 ACH Electronic CreditGUSTO PAY 123456 $5850 Category: Transfer\n",
      "2020-05-14 CD DEPOSIT .INITIAL. $1000 Category: Transfer\n",
      "2020-05-13 Touchstone Climbing $78.5 Category: Recreation\n",
      "2020-05-13 United Airlines $-500 Category: Travel\n",
      "2020-05-12 McDonald's $12 Category: Food and Drink\n",
      "2020-05-12 Starbucks $4.33 Category: Food and Drink\n",
      "2020-05-11 SparkFun $89.4 Category: Food and Drink\n",
      "2020-05-10 INTRST PYMNT $-4.22 Category: Transfer\n",
      "2020-04-30 United Airlines $500 Category: Travel\n",
      "2020-04-28 Uber 072515 SF**POOL** $6.33 Category: Travel\n",
      "2020-04-25 Tectra Inc $500 Category: Food and Drink\n",
      "2020-04-24 AUTOMATIC PAYMENT - THANK $2078.5 Category: Payment\n",
      "2020-04-24 KFC $500 Category: Food and Drink\n",
      "2020-04-24 Madison Bicycle Shop $500 Category: Shops\n",
      "2020-04-15 CREDIT CARD 3333 PAYMENT *// $25 Category: Payment\n",
      "2020-04-15 Uber 063015 SF**POOL** $5.4 Category: Travel\n",
      "2020-04-14 ACH Electronic CreditGUSTO PAY 123456 $5850 Category: Transfer\n",
      "2020-04-14 CD DEPOSIT .INITIAL. $1000 Category: Transfer\n",
      "2020-04-13 Touchstone Climbing $78.5 Category: Recreation\n",
      "2020-04-13 United Airlines $-500 Category: Travel\n",
      "2020-04-12 McDonald's $12 Category: Food and Drink\n",
      "2020-04-12 Starbucks $4.33 Category: Food and Drink\n",
      "2020-04-11 SparkFun $89.4 Category: Food and Drink\n"
     ]
    },
    {
     "data": {
      "text/html": [
       "<div>\n",
       "<style scoped>\n",
       "    .dataframe tbody tr th:only-of-type {\n",
       "        vertical-align: middle;\n",
       "    }\n",
       "\n",
       "    .dataframe tbody tr th {\n",
       "        vertical-align: top;\n",
       "    }\n",
       "\n",
       "    .dataframe thead th {\n",
       "        text-align: right;\n",
       "    }\n",
       "</style>\n",
       "<table border=\"1\" class=\"dataframe\">\n",
       "  <thead>\n",
       "    <tr style=\"text-align: right;\">\n",
       "      <th></th>\n",
       "      <th>Date</th>\n",
       "      <th>Name</th>\n",
       "      <th>Amount</th>\n",
       "      <th>Category</th>\n",
       "    </tr>\n",
       "  </thead>\n",
       "  <tbody>\n",
       "    <tr>\n",
       "      <th>0</th>\n",
       "      <td>2020-07-10</td>\n",
       "      <td>SparkFun</td>\n",
       "      <td>89.40</td>\n",
       "      <td>Food and Drink</td>\n",
       "    </tr>\n",
       "    <tr>\n",
       "      <th>1</th>\n",
       "      <td>2020-07-09</td>\n",
       "      <td>INTRST PYMNT</td>\n",
       "      <td>-4.22</td>\n",
       "      <td>Transfer</td>\n",
       "    </tr>\n",
       "    <tr>\n",
       "      <th>2</th>\n",
       "      <td>2020-06-29</td>\n",
       "      <td>United Airlines</td>\n",
       "      <td>500.00</td>\n",
       "      <td>Travel</td>\n",
       "    </tr>\n",
       "    <tr>\n",
       "      <th>3</th>\n",
       "      <td>2020-06-27</td>\n",
       "      <td>Uber 072515 SF**POOL**</td>\n",
       "      <td>6.33</td>\n",
       "      <td>Travel</td>\n",
       "    </tr>\n",
       "    <tr>\n",
       "      <th>4</th>\n",
       "      <td>2020-06-24</td>\n",
       "      <td>Tectra Inc</td>\n",
       "      <td>500.00</td>\n",
       "      <td>Food and Drink</td>\n",
       "    </tr>\n",
       "  </tbody>\n",
       "</table>\n",
       "</div>"
      ],
      "text/plain": [
       "         Date                    Name  Amount        Category\n",
       "0  2020-07-10                SparkFun   89.40  Food and Drink\n",
       "1  2020-07-09            INTRST PYMNT   -4.22        Transfer\n",
       "2  2020-06-29         United Airlines  500.00          Travel\n",
       "3  2020-06-27  Uber 072515 SF**POOL**    6.33          Travel\n",
       "4  2020-06-24              Tectra Inc  500.00  Food and Drink"
      ]
     },
     "execution_count": 52,
     "metadata": {},
     "output_type": "execute_result"
    }
   ],
   "source": [
    "# Define an empty DataFrame and set the columns as date, name, amount, and category\n",
    "transactions = transactions_response['transactions']\n",
    "\n",
    "date = []\n",
    "name = []\n",
    "amount = []\n",
    "total_categories = []\n",
    "\n",
    "# Retrieve all the transactions\n",
    "for tran in transactions:\n",
    "    category = tran['category'][0]\n",
    "    total_categories.append(category)\n",
    "    date.append(tran['date'])\n",
    "    name.append(tran['name'])\n",
    "    amount.append(tran['amount'])\n",
    "\n",
    "# Populate the transactions DataFrame with the transactions data\n",
    "for i in range(len(date)):\n",
    "    print(f\"{date[i]} {name[i]} ${amount[i]} Category: {total_categories[i]}\")\n",
    "\n",
    "df = pd.DataFrame(list(zip(date,name,amount,total_categories)), \n",
    "                columns =['Date','Name','Amount','Category'])\n",
    "\n",
    "# Display sample data from the DataFrame \n",
    "df.head()\n",
    " "
   ]
  },
  {
   "cell_type": "markdown",
   "metadata": {},
   "source": [
    "### 4. Convert the data types to the appropriate types \n",
    "\n",
    "(i.e. datetimeindex for the date and float for the amount)"
   ]
  },
  {
   "cell_type": "code",
   "execution_count": 58,
   "metadata": {},
   "outputs": [
    {
     "data": {
      "text/plain": [
       "Date         object\n",
       "Name         object\n",
       "Amount      float64\n",
       "Category     object\n",
       "dtype: object"
      ]
     },
     "execution_count": 58,
     "metadata": {},
     "output_type": "execute_result"
    }
   ],
   "source": [
    "# Display data types\n",
    "df.dtypes"
   ]
  },
  {
   "cell_type": "code",
   "execution_count": 69,
   "metadata": {},
   "outputs": [],
   "source": [
    "# Make any required data type transformation\n"
   ]
  },
  {
   "cell_type": "code",
   "execution_count": 70,
   "metadata": {},
   "outputs": [
    {
     "data": {
      "text/html": [
       "<div>\n",
       "<style scoped>\n",
       "    .dataframe tbody tr th:only-of-type {\n",
       "        vertical-align: middle;\n",
       "    }\n",
       "\n",
       "    .dataframe tbody tr th {\n",
       "        vertical-align: top;\n",
       "    }\n",
       "\n",
       "    .dataframe thead th {\n",
       "        text-align: right;\n",
       "    }\n",
       "</style>\n",
       "<table border=\"1\" class=\"dataframe\">\n",
       "  <thead>\n",
       "    <tr style=\"text-align: right;\">\n",
       "      <th></th>\n",
       "      <th>Name</th>\n",
       "      <th>Amount</th>\n",
       "      <th>Category</th>\n",
       "    </tr>\n",
       "    <tr>\n",
       "      <th>Date</th>\n",
       "      <th></th>\n",
       "      <th></th>\n",
       "      <th></th>\n",
       "    </tr>\n",
       "  </thead>\n",
       "  <tbody>\n",
       "    <tr>\n",
       "      <th>2020-04-11</th>\n",
       "      <td>SparkFun</td>\n",
       "      <td>89.40</td>\n",
       "      <td>Food and Drink</td>\n",
       "    </tr>\n",
       "    <tr>\n",
       "      <th>2020-04-12</th>\n",
       "      <td>Starbucks</td>\n",
       "      <td>4.33</td>\n",
       "      <td>Food and Drink</td>\n",
       "    </tr>\n",
       "    <tr>\n",
       "      <th>2020-04-12</th>\n",
       "      <td>McDonald's</td>\n",
       "      <td>12.00</td>\n",
       "      <td>Food and Drink</td>\n",
       "    </tr>\n",
       "    <tr>\n",
       "      <th>2020-04-13</th>\n",
       "      <td>United Airlines</td>\n",
       "      <td>-500.00</td>\n",
       "      <td>Travel</td>\n",
       "    </tr>\n",
       "    <tr>\n",
       "      <th>2020-04-13</th>\n",
       "      <td>Touchstone Climbing</td>\n",
       "      <td>78.50</td>\n",
       "      <td>Recreation</td>\n",
       "    </tr>\n",
       "  </tbody>\n",
       "</table>\n",
       "</div>"
      ],
      "text/plain": [
       "                           Name  Amount        Category\n",
       "Date                                                   \n",
       "2020-04-11             SparkFun   89.40  Food and Drink\n",
       "2020-04-12            Starbucks    4.33  Food and Drink\n",
       "2020-04-12           McDonald's   12.00  Food and Drink\n",
       "2020-04-13      United Airlines -500.00          Travel\n",
       "2020-04-13  Touchstone Climbing   78.50      Recreation"
      ]
     },
     "execution_count": 70,
     "metadata": {},
     "output_type": "execute_result"
    }
   ],
   "source": [
    "# Set the date column as index\n",
    "df.sort_index(inplace = True)\n",
    "# Display sample data\n",
    "df.head()"
   ]
  },
  {
   "cell_type": "markdown",
   "metadata": {},
   "source": [
    "---"
   ]
  },
  {
   "cell_type": "markdown",
   "metadata": {},
   "source": [
    "# Income Analysis with Plaid\n",
    "\n",
    "In this section, you will use the Plaid Sandbox to complete the following:\n",
    "\n",
    "1. Determine the previous year's gross income and print the results\n",
    "\n",
    "2. Determine the current monthly income and print the results\n",
    "\n",
    "3. Determine the projected yearly income and print the results"
   ]
  },
  {
   "cell_type": "code",
   "execution_count": 96,
   "metadata": {},
   "outputs": [
    {
     "name": "stdout",
     "output_type": "stream",
     "text": [
      "{'income': {'income_streams': [{'confidence': 0.99, 'days': 690, 'monthly_income': 500, 'name': 'UNITED AIRLINES'}], 'last_year_income': 6000, 'last_year_income_before_tax': 7285, 'max_number_of_overlapping_income_streams': 1, 'number_of_income_streams': 1, 'projected_yearly_income': 6085, 'projected_yearly_income_before_tax': 7389}, 'request_id': 'BBUWcM7C54kXB0c'}\n"
     ]
    }
   ],
   "source": [
    "# Fetch de income data\n",
    "resp = client.Income.get(access_token)\n",
    "\n",
    "# Print the income data\n",
    "print(resp)"
   ]
  },
  {
   "cell_type": "code",
   "execution_count": 91,
   "metadata": {},
   "outputs": [
    {
     "name": "stdout",
     "output_type": "stream",
     "text": [
      " Previous year's Gross income: $7285\n"
     ]
    }
   ],
   "source": [
    "# Determine the previous year's gross income and print the results\n",
    "last_year_gross_income = resp['income']['last_year_income_before_tax']\n",
    "print(f\" Previous year's Gross income: ${last_year_gross_income}\")"
   ]
  },
  {
   "cell_type": "code",
   "execution_count": 92,
   "metadata": {},
   "outputs": [
    {
     "name": "stdout",
     "output_type": "stream",
     "text": [
      " Current monthly income: $500\n"
     ]
    }
   ],
   "source": [
    "# Determine the current monthly income and print the results\n",
    "monthly_income = resp['income']['income_streams'][0]['monthly_income']\n",
    "print(f\" Current monthly income: ${monthly_income}\")"
   ]
  },
  {
   "cell_type": "code",
   "execution_count": 93,
   "metadata": {},
   "outputs": [
    {
     "name": "stdout",
     "output_type": "stream",
     "text": [
      " Projected yearly income: $6000\n"
     ]
    }
   ],
   "source": [
    "# Determine the projected yearly income and print the results\n",
    "projected_yearly_income = monthly_income * 12\n",
    "print(f\" Projected yearly income: ${projected_yearly_income}\")"
   ]
  },
  {
   "cell_type": "markdown",
   "metadata": {},
   "source": [
    "---"
   ]
  },
  {
   "cell_type": "markdown",
   "metadata": {},
   "source": [
    "# Budget Analysis\n",
    "In this section, you will use the transactions DataFrame to analyze the customer's budget\n",
    "\n",
    "1. Calculate the total spending per category and print the results (Hint: groupby or count transactions per category)\n",
    "\n",
    "2. Generate a bar chart with the number of transactions for each category\n",
    "\n",
    "3. Calulate the expenses per month\n",
    "\n",
    "4. Plot the total expenses per month"
   ]
  },
  {
   "cell_type": "markdown",
   "metadata": {},
   "source": [
    "### Calculate the expenses per category"
   ]
  },
  {
   "cell_type": "code",
   "execution_count": 105,
   "metadata": {},
   "outputs": [
    {
     "name": "stdout",
     "output_type": "stream",
     "text": [
      "                Total Spending Per Category\n",
      "Category                                   \n",
      "Transfer                           20537.34\n",
      "Payment                             6310.50\n",
      "Food and Drink                      3406.59\n",
      "Shops                               1500.00\n",
      "Recreation                           235.50\n",
      "Travel                                35.19\n"
     ]
    }
   ],
   "source": [
    "# Compute the total expenses per category\n",
    "\n",
    "df_category_sum = df.filter(['Category','Amount'])\n",
    "grouped = df_category_sum.groupby(['Category']).sum()\n",
    "grouped.columns = ['Total Spending Per Category']\n",
    "grouped.sort_values('Total Spending Per Category',ascending=False,inplace=True)\n",
    "# Display the expenses per category\n",
    "print(grouped)\n"
   ]
  },
  {
   "cell_type": "code",
   "execution_count": 99,
   "metadata": {},
   "outputs": [
    {
     "data": {
      "text/plain": [
       "array([<matplotlib.axes._subplots.AxesSubplot object at 0x000002328B27B108>],\n",
       "      dtype=object)"
      ]
     },
     "execution_count": 99,
     "metadata": {},
     "output_type": "execute_result"
    },
    {
     "data": {
      "image/png": "[encoded data removed]",
      "text/plain": [
       "<Figure size 1080x576 with 1 Axes>"
      ]
     },
     "metadata": {},
     "output_type": "display_data"
    }
   ],
   "source": [
    "# Create a spending categories pie chart.\n",
    "grouped.plot.pie(subplots=True,figsize=(15,8), title=\"Spending per Category\")"
   ]
  },
  {
   "cell_type": "markdown",
   "metadata": {},
   "source": [
    "### Calculate the expenses per month"
   ]
  },
  {
   "cell_type": "code",
   "execution_count": 104,
   "metadata": {},
   "outputs": [
    {
     "name": "stdout",
     "output_type": "stream",
     "text": [
      "                           Name  Amount        Category\n",
      "Date                                                   \n",
      "2020-04-11             SparkFun   89.40  Food and Drink\n",
      "2020-04-12            Starbucks    4.33  Food and Drink\n",
      "2020-04-12           McDonald's   12.00  Food and Drink\n",
      "2020-04-13      United Airlines -500.00          Travel\n",
      "2020-04-13  Touchstone Climbing   78.50      Recreation\n"
     ]
    }
   ],
   "source": [
    "# Create a DataFrame with the total expenses\n",
    "grouped_count = df.filter(['Category','Amount']).groupby(['Category']).count()\n",
    "grouped_count.columns = ['Transaction Count']\n",
    "grouped_count.sort_values('Transaction Count',ascending=False,inplace=True)\n",
    "print(df.head())\n"
   ]
  },
  {
   "cell_type": "code",
   "execution_count": 103,
   "metadata": {},
   "outputs": [
    {
     "data": {
      "text/plain": [
       "<matplotlib.axes._subplots.AxesSubplot at 0x2328bb88848>"
      ]
     },
     "execution_count": 103,
     "metadata": {},
     "output_type": "execute_result"
    },
    {
     "data": {
      "image/png": "[encoded data removed]",
      "text/plain": [
       "<Figure size 1080x576 with 1 Axes>"
      ]
     },
     "metadata": {
      "needs_background": "light"
     },
     "output_type": "display_data"
    }
   ],
   "source": [
    "# Create a spending per month bar chart\n",
    "grouped_count.plot.bar(figsize=(15,8), title=\"Transaction Counts Per Category\")"
   ]
  },
  {
   "cell_type": "code",
   "execution_count": null,
   "metadata": {},
   "outputs": [],
   "source": []
  }
 ],
 "metadata": {
  "kernelspec": {
   "display_name": "Python 3.7.6 64-bit ('base': conda)",
   "language": "python",
   "name": "python37664bitbaseconda625e873bf44f4cd181855bac0828b832"
  },
  "language_info": {
   "codemirror_mode": {
    "name": "ipython",
    "version": 3
   },
   "file_extension": ".py",
   "mimetype": "text/x-python",
   "name": "python",
   "nbconvert_exporter": "python",
   "pygments_lexer": "ipython3",
   "version": "3.7.6"
  }
 },
 "nbformat": 4,
 "nbformat_minor": 4
}
